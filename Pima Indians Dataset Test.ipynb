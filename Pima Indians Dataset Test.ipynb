{
 "cells": [
  {
   "cell_type": "code",
   "execution_count": 1,
   "metadata": {
    "collapsed": false
   },
   "outputs": [
    {
     "name": "stderr",
     "output_type": "stream",
     "text": [
      "/home/x3l0r/anaconda3/lib/python3.5/site-packages/h5py/__init__.py:36: FutureWarning: Conversion of the second argument of issubdtype from `float` to `np.floating` is deprecated. In future, it will be treated as `np.float64 == np.dtype(float).type`.\n",
      "  from ._conv import register_converters as _register_converters\n",
      "Using Theano backend.\n"
     ]
    }
   ],
   "source": [
    "import pandas as pd\n",
    "import numpy as np\n",
    "from keras.models import Sequential, Model\n",
    "from keras.layers import Dense\n",
    "\n",
    "\n"
   ]
  },
  {
   "cell_type": "markdown",
   "metadata": {},
   "source": [
    "Above are the imports for the pima indians dataset"
   ]
  },
  {
   "cell_type": "markdown",
   "metadata": {},
   "source": [
    "#### Fixed random seed for reproducibility"
   ]
  },
  {
   "cell_type": "code",
   "execution_count": 2,
   "metadata": {
    "collapsed": true
   },
   "outputs": [],
   "source": [
    "\n",
    "seed = 9\n",
    "np.random.seed(seed)\n",
    "features = ['f1', 'f2', 'f3', 'f4', 'f5', 'f6', 'f7', 'f8', 'Y']"
   ]
  },
  {
   "cell_type": "code",
   "execution_count": 3,
   "metadata": {
    "collapsed": true
   },
   "outputs": [],
   "source": [
    "dataset = pd.read_csv(\"pima-indians-diabetes.csv\", names=features)"
   ]
  },
  {
   "cell_type": "markdown",
   "metadata": {},
   "source": [
    "We have to take a sneak peak at the data below, so we have to view the first 10 rows & columns."
   ]
  },
  {
   "cell_type": "code",
   "execution_count": 4,
   "metadata": {
    "collapsed": false
   },
   "outputs": [
    {
     "data": {
      "text/html": [
       "<div>\n",
       "<table border=\"1\" class=\"dataframe\">\n",
       "  <thead>\n",
       "    <tr style=\"text-align: right;\">\n",
       "      <th></th>\n",
       "      <th>f1</th>\n",
       "      <th>f2</th>\n",
       "      <th>f3</th>\n",
       "      <th>f4</th>\n",
       "      <th>f5</th>\n",
       "      <th>f6</th>\n",
       "      <th>f7</th>\n",
       "      <th>f8</th>\n",
       "      <th>Y</th>\n",
       "    </tr>\n",
       "  </thead>\n",
       "  <tbody>\n",
       "    <tr>\n",
       "      <th>0</th>\n",
       "      <td>6</td>\n",
       "      <td>148</td>\n",
       "      <td>72</td>\n",
       "      <td>35</td>\n",
       "      <td>0</td>\n",
       "      <td>33.6</td>\n",
       "      <td>0.627</td>\n",
       "      <td>50</td>\n",
       "      <td>1</td>\n",
       "    </tr>\n",
       "    <tr>\n",
       "      <th>1</th>\n",
       "      <td>1</td>\n",
       "      <td>85</td>\n",
       "      <td>66</td>\n",
       "      <td>29</td>\n",
       "      <td>0</td>\n",
       "      <td>26.6</td>\n",
       "      <td>0.351</td>\n",
       "      <td>31</td>\n",
       "      <td>0</td>\n",
       "    </tr>\n",
       "    <tr>\n",
       "      <th>2</th>\n",
       "      <td>8</td>\n",
       "      <td>183</td>\n",
       "      <td>64</td>\n",
       "      <td>0</td>\n",
       "      <td>0</td>\n",
       "      <td>23.3</td>\n",
       "      <td>0.672</td>\n",
       "      <td>32</td>\n",
       "      <td>1</td>\n",
       "    </tr>\n",
       "    <tr>\n",
       "      <th>3</th>\n",
       "      <td>1</td>\n",
       "      <td>89</td>\n",
       "      <td>66</td>\n",
       "      <td>23</td>\n",
       "      <td>94</td>\n",
       "      <td>28.1</td>\n",
       "      <td>0.167</td>\n",
       "      <td>21</td>\n",
       "      <td>0</td>\n",
       "    </tr>\n",
       "    <tr>\n",
       "      <th>4</th>\n",
       "      <td>0</td>\n",
       "      <td>137</td>\n",
       "      <td>40</td>\n",
       "      <td>35</td>\n",
       "      <td>168</td>\n",
       "      <td>43.1</td>\n",
       "      <td>2.288</td>\n",
       "      <td>33</td>\n",
       "      <td>1</td>\n",
       "    </tr>\n",
       "    <tr>\n",
       "      <th>5</th>\n",
       "      <td>5</td>\n",
       "      <td>116</td>\n",
       "      <td>74</td>\n",
       "      <td>0</td>\n",
       "      <td>0</td>\n",
       "      <td>25.6</td>\n",
       "      <td>0.201</td>\n",
       "      <td>30</td>\n",
       "      <td>0</td>\n",
       "    </tr>\n",
       "    <tr>\n",
       "      <th>6</th>\n",
       "      <td>3</td>\n",
       "      <td>78</td>\n",
       "      <td>50</td>\n",
       "      <td>32</td>\n",
       "      <td>88</td>\n",
       "      <td>31.0</td>\n",
       "      <td>0.248</td>\n",
       "      <td>26</td>\n",
       "      <td>1</td>\n",
       "    </tr>\n",
       "    <tr>\n",
       "      <th>7</th>\n",
       "      <td>10</td>\n",
       "      <td>115</td>\n",
       "      <td>0</td>\n",
       "      <td>0</td>\n",
       "      <td>0</td>\n",
       "      <td>35.3</td>\n",
       "      <td>0.134</td>\n",
       "      <td>29</td>\n",
       "      <td>0</td>\n",
       "    </tr>\n",
       "    <tr>\n",
       "      <th>8</th>\n",
       "      <td>2</td>\n",
       "      <td>197</td>\n",
       "      <td>70</td>\n",
       "      <td>45</td>\n",
       "      <td>543</td>\n",
       "      <td>30.5</td>\n",
       "      <td>0.158</td>\n",
       "      <td>53</td>\n",
       "      <td>1</td>\n",
       "    </tr>\n",
       "    <tr>\n",
       "      <th>9</th>\n",
       "      <td>8</td>\n",
       "      <td>125</td>\n",
       "      <td>96</td>\n",
       "      <td>0</td>\n",
       "      <td>0</td>\n",
       "      <td>0.0</td>\n",
       "      <td>0.232</td>\n",
       "      <td>54</td>\n",
       "      <td>1</td>\n",
       "    </tr>\n",
       "  </tbody>\n",
       "</table>\n",
       "</div>"
      ],
      "text/plain": [
       "   f1   f2  f3  f4   f5    f6     f7  f8  Y\n",
       "0   6  148  72  35    0  33.6  0.627  50  1\n",
       "1   1   85  66  29    0  26.6  0.351  31  0\n",
       "2   8  183  64   0    0  23.3  0.672  32  1\n",
       "3   1   89  66  23   94  28.1  0.167  21  0\n",
       "4   0  137  40  35  168  43.1  2.288  33  1\n",
       "5   5  116  74   0    0  25.6  0.201  30  0\n",
       "6   3   78  50  32   88  31.0  0.248  26  1\n",
       "7  10  115   0   0    0  35.3  0.134  29  0\n",
       "8   2  197  70  45  543  30.5  0.158  53  1\n",
       "9   8  125  96   0    0   0.0  0.232  54  1"
      ]
     },
     "execution_count": 4,
     "metadata": {},
     "output_type": "execute_result"
    }
   ],
   "source": [
    "dataset.head(10)"
   ]
  },
  {
   "cell_type": "code",
   "execution_count": 5,
   "metadata": {
    "collapsed": false
   },
   "outputs": [
    {
     "data": {
      "text/plain": [
       "array([[  6.   , 148.   ,  72.   , ...,   0.627,  50.   ,   1.   ],\n",
       "       [  1.   ,  85.   ,  66.   , ...,   0.351,  31.   ,   0.   ],\n",
       "       [  8.   , 183.   ,  64.   , ...,   0.672,  32.   ,   1.   ],\n",
       "       ...,\n",
       "       [  5.   , 121.   ,  72.   , ...,   0.245,  30.   ,   0.   ],\n",
       "       [  1.   , 126.   ,  60.   , ...,   0.349,  47.   ,   1.   ],\n",
       "       [  1.   ,  93.   ,  70.   , ...,   0.315,  23.   ,   0.   ]])"
      ]
     },
     "execution_count": 5,
     "metadata": {},
     "output_type": "execute_result"
    }
   ],
   "source": [
    "array = dataset.values\n",
    "\n",
    "X = array[:,0:-1]\n",
    "Y = array[:,-1]\n",
    "\n",
    "array"
   ]
  },
  {
   "cell_type": "markdown",
   "metadata": {},
   "source": [
    "Now we have to create our Model and add the layers"
   ]
  },
  {
   "cell_type": "code",
   "execution_count": 6,
   "metadata": {
    "collapsed": false
   },
   "outputs": [
    {
     "name": "stdout",
     "output_type": "stream",
     "text": [
      "_________________________________________________________________\n",
      "Layer (type)                 Output Shape              Param #   \n",
      "=================================================================\n",
      "dense_1 (Dense)              (None, 100)               900       \n",
      "_________________________________________________________________\n",
      "dense_2 (Dense)              (None, 100)               10100     \n",
      "_________________________________________________________________\n",
      "dense_3 (Dense)              (None, 100)               10100     \n",
      "_________________________________________________________________\n",
      "dense_4 (Dense)              (None, 1)                 101       \n",
      "=================================================================\n",
      "Total params: 21,201\n",
      "Trainable params: 21,201\n",
      "Non-trainable params: 0\n",
      "_________________________________________________________________\n"
     ]
    }
   ],
   "source": [
    "model = Sequential()\n",
    "model.add(Dense(100, input_dim=8, kernel_initializer='uniform', activation='relu'))\n",
    "model.add(Dense(100, kernel_initializer='uniform', activation='relu'))\n",
    "model.add(Dense(100, kernel_initializer='uniform', activation='relu'))\n",
    "model.add(Dense(1, kernel_initializer='uniform', activation='sigmoid'))\n",
    "\n",
    "model.summary()"
   ]
  },
  {
   "cell_type": "markdown",
   "metadata": {},
   "source": [
    "Compile the model and fit \n",
    "\n",
    "Parameters used \n",
    "loss function: Binary Cross Entropy\n",
    "Optimizer: adam\n",
    "and for the evaluation metrics we take the accuracy of the training process"
   ]
  },
  {
   "cell_type": "code",
   "execution_count": 7,
   "metadata": {
    "collapsed": false
   },
   "outputs": [
    {
     "name": "stdout",
     "output_type": "stream",
     "text": [
      "Epoch 1/30\n",
      "768/768 [==============================] - 0s 128us/step - loss: 0.6739 - acc: 0.6432\n",
      "Epoch 2/30\n",
      "768/768 [==============================] - 0s 142us/step - loss: 0.6428 - acc: 0.6589\n",
      "Epoch 3/30\n",
      "768/768 [==============================] - 0s 147us/step - loss: 0.6286 - acc: 0.6497\n",
      "Epoch 4/30\n",
      "768/768 [==============================] - 0s 148us/step - loss: 0.6261 - acc: 0.6615\n",
      "Epoch 5/30\n",
      "768/768 [==============================] - 0s 159us/step - loss: 0.6107 - acc: 0.6706\n",
      "Epoch 6/30\n",
      "768/768 [==============================] - 0s 203us/step - loss: 0.5976 - acc: 0.6693\n",
      "Epoch 7/30\n",
      "768/768 [==============================] - 0s 147us/step - loss: 0.6035 - acc: 0.6875\n",
      "Epoch 8/30\n",
      "768/768 [==============================] - 0s 151us/step - loss: 0.5895 - acc: 0.6784\n",
      "Epoch 9/30\n",
      "768/768 [==============================] - 0s 174us/step - loss: 0.5905 - acc: 0.6901\n",
      "Epoch 10/30\n",
      "768/768 [==============================] - 0s 181us/step - loss: 0.5836 - acc: 0.6992\n",
      "Epoch 11/30\n",
      "768/768 [==============================] - 0s 209us/step - loss: 0.5694 - acc: 0.6940\n",
      "Epoch 12/30\n",
      "768/768 [==============================] - 0s 311us/step - loss: 0.5824 - acc: 0.6992\n",
      "Epoch 13/30\n",
      "768/768 [==============================] - 0s 203us/step - loss: 0.5716 - acc: 0.7148\n",
      "Epoch 14/30\n",
      "768/768 [==============================] - 0s 194us/step - loss: 0.5823 - acc: 0.6823\n",
      "Epoch 15/30\n",
      "768/768 [==============================] - 0s 234us/step - loss: 0.5652 - acc: 0.7357\n",
      "Epoch 16/30\n",
      "768/768 [==============================] - 0s 241us/step - loss: 0.5503 - acc: 0.7214\n",
      "Epoch 17/30\n",
      "768/768 [==============================] - 0s 223us/step - loss: 0.5628 - acc: 0.7122\n",
      "Epoch 18/30\n",
      "768/768 [==============================] - 0s 264us/step - loss: 0.5579 - acc: 0.7201\n",
      "Epoch 19/30\n",
      "768/768 [==============================] - 0s 238us/step - loss: 0.5518 - acc: 0.7201\n",
      "Epoch 20/30\n",
      "768/768 [==============================] - 0s 257us/step - loss: 0.5635 - acc: 0.7161\n",
      "Epoch 21/30\n",
      "768/768 [==============================] - 0s 277us/step - loss: 0.5541 - acc: 0.7240\n",
      "Epoch 22/30\n",
      "768/768 [==============================] - 0s 280us/step - loss: 0.5337 - acc: 0.7344\n",
      "Epoch 23/30\n",
      "768/768 [==============================] - 0s 353us/step - loss: 0.5298 - acc: 0.7422\n",
      "Epoch 24/30\n",
      "768/768 [==============================] - 0s 246us/step - loss: 0.5416 - acc: 0.7396\n",
      "Epoch 25/30\n",
      "768/768 [==============================] - 0s 209us/step - loss: 0.5361 - acc: 0.7305\n",
      "Epoch 26/30\n",
      "768/768 [==============================] - 0s 361us/step - loss: 0.5234 - acc: 0.7370\n",
      "Epoch 27/30\n",
      "768/768 [==============================] - 0s 427us/step - loss: 0.5247 - acc: 0.7448\n",
      "Epoch 28/30\n",
      "768/768 [==============================] - 0s 313us/step - loss: 0.5297 - acc: 0.7253\n",
      "Epoch 29/30\n",
      "768/768 [==============================] - 0s 310us/step - loss: 0.5141 - acc: 0.7539\n",
      "Epoch 30/30\n",
      "768/768 [==============================] - 0s 239us/step - loss: 0.5049 - acc: 0.7656\n"
     ]
    },
    {
     "data": {
      "text/plain": [
       "<keras.callbacks.History at 0x7f75dc51e400>"
      ]
     },
     "execution_count": 7,
     "metadata": {},
     "output_type": "execute_result"
    }
   ],
   "source": [
    "model.compile(loss='binary_crossentropy', optimizer='adam', metrics=['accuracy'])\n",
    "\n",
    "model.fit(X, Y, epochs=30, batch_size=30)"
   ]
  },
  {
   "cell_type": "code",
   "execution_count": 8,
   "metadata": {
    "collapsed": false
   },
   "outputs": [
    {
     "name": "stdout",
     "output_type": "stream",
     "text": [
      "768/768 [==============================] - 0s 43us/step\n",
      "acc: 75.91%\n"
     ]
    }
   ],
   "source": [
    "scores = model.evaluate(X, Y)\n",
    "print(\"%s: %.2f%%\" % (model.metrics_names[1], scores[1] * 100))"
   ]
  }
 ],
 "metadata": {
  "kernelspec": {
   "display_name": "Python [conda root]",
   "language": "python",
   "name": "conda-root-py"
  },
  "language_info": {
   "codemirror_mode": {
    "name": "ipython",
    "version": 3
   },
   "file_extension": ".py",
   "mimetype": "text/x-python",
   "name": "python",
   "nbconvert_exporter": "python",
   "pygments_lexer": "ipython3",
   "version": "3.5.2"
  }
 },
 "nbformat": 4,
 "nbformat_minor": 1
}
